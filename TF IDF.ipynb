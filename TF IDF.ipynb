{
  "nbformat": 4,
  "nbformat_minor": 0,
  "metadata": {
    "colab": {
      "provenance": []
    },
    "kernelspec": {
      "name": "python3",
      "display_name": "Python 3"
    },
    "language_info": {
      "name": "python"
    }
  },
  "cells": [
    {
      "cell_type": "code",
      "execution_count": null,
      "metadata": {
        "colab": {
          "base_uri": "https://localhost:8080/"
        },
        "id": "WiedQmyH82Ow",
        "outputId": "f0eab70b-43f9-43d8-beff-53fb0d04633f"
      },
      "outputs": [
        {
          "output_type": "stream",
          "name": "stdout",
          "text": [
            "TF-IDF for document 1\n",
            "this : 0.09542425094393249\n",
            "is : 0.09542425094393249\n",
            "a : 0.09542425094393249\n",
            "sample : 0.0\n",
            "document : 0.0\n",
            "\n",
            "TF-IDF for document 2\n",
            "another : 0.09542425094393249\n",
            "sample : 0.0\n",
            "document : 0.0\n",
            "for : 0.09542425094393249\n",
            "testing : 0.09542425094393249\n",
            "\n",
            "TF-IDF for document 3\n",
            "just : 0.09542425094393249\n",
            "one : 0.09542425094393249\n",
            "more : 0.09542425094393249\n",
            "sample : 0.0\n",
            "document : 0.0\n",
            "\n"
          ]
        }
      ],
      "source": [
        "import math\n",
        "from collections import Counter\n",
        "\n",
        "def term_frequency(document):\n",
        "    tf_counter = Counter(document)\n",
        "    total_words = len(document)\n",
        "    tf = {word: tf_counter[word] / total_words for word in tf_counter}\n",
        "    return tf\n",
        "\n",
        "def inverse_document_frequency(documents):\n",
        "    total_documents = len(documents)\n",
        "    idf = {}\n",
        "    all_words = set(word for doc in documents for word in doc)\n",
        "    for word in all_words:\n",
        "        doc_count = sum(1 for doc in documents if word in doc)\n",
        "        idf[word] = math.log10(total_documents / doc_count)\n",
        "    return idf\n",
        "\n",
        "def main():\n",
        "\n",
        "    documents = [\n",
        "        [\"this\", \"is\", \"a\", \"sample\", \"document\"],\n",
        "        [\"another\", \"sample\", \"document\", \"for\", \"testing\"],\n",
        "        [\"just\", \"one\", \"more\", \"sample\", \"document\"]\n",
        "    ]\n",
        "\n",
        "    # Calculate TF and IDF\n",
        "    tfidf = []\n",
        "    idf = inverse_document_frequency(documents)\n",
        "    for doc in documents:\n",
        "        tf = term_frequency(doc)\n",
        "        tfidf_doc = {word: tf[word] * idf[word] for word in tf}\n",
        "        tfidf.append(tfidf_doc)\n",
        "\n",
        "    # Print TF-IDF for each document\n",
        "    for i, doc in enumerate(tfidf):\n",
        "        print(\"TF-IDF for document\", i+1)\n",
        "        for word, score in doc.items():\n",
        "            print(word, \":\", score)\n",
        "        print()\n",
        "\n",
        "if __name__ == \"__main__\":\n",
        "    main()\n"
      ]
    }
  ]
}
