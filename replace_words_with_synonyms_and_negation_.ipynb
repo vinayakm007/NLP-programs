{
  "nbformat": 4,
  "nbformat_minor": 0,
  "metadata": {
    "colab": {
      "provenance": []
    },
    "kernelspec": {
      "name": "python3",
      "display_name": "Python 3"
    },
    "language_info": {
      "name": "python"
    }
  },
  "cells": [
    {
      "cell_type": "code",
      "source": [
        "import nltk\n",
        "nltk.download('punkt')\n",
        "nltk.download('wordnet')\n",
        ""
      ],
      "metadata": {
        "colab": {
          "base_uri": "https://localhost:8080/"
        },
        "id": "AL_qzagiKcNQ",
        "outputId": "e57bc012-b6a7-4bf6-bdf8-7776304be404"
      },
      "execution_count": 7,
      "outputs": [
        {
          "output_type": "stream",
          "name": "stderr",
          "text": [
            "[nltk_data] Downloading package punkt to /root/nltk_data...\n",
            "[nltk_data]   Package punkt is already up-to-date!\n",
            "[nltk_data] Downloading package wordnet to /root/nltk_data...\n"
          ]
        },
        {
          "output_type": "execute_result",
          "data": {
            "text/plain": [
              "True"
            ]
          },
          "metadata": {},
          "execution_count": 7
        }
      ]
    },
    {
      "cell_type": "code",
      "source": [
        "from nltk.corpus import wordnet"
      ],
      "metadata": {
        "id": "LJiR2dQ8Kj62"
      },
      "execution_count": 8,
      "outputs": []
    },
    {
      "cell_type": "code",
      "source": [],
      "metadata": {
        "id": "Qp9ekmy4KdNu"
      },
      "execution_count": null,
      "outputs": []
    },
    {
      "cell_type": "code",
      "execution_count": 12,
      "metadata": {
        "colab": {
          "base_uri": "https://localhost:8080/"
        },
        "id": "XfpRIah7KL1R",
        "outputId": "db89b857-7535-42db-8ec3-73407b204d75"
      },
      "outputs": [
        {
          "output_type": "stream",
          "name": "stdout",
          "text": [
            "Sentence with synonyms: male_child\n",
            "Sentence with negations replaced: boy\n"
          ]
        }
      ],
      "source": [
        "\n",
        "\n",
        "\n",
        "\n",
        "def replace_with_synonyms(sentence):\n",
        "    words = nltk.word_tokenize(sentence)\n",
        "    new_sentence = []\n",
        "    for word in words:\n",
        "        synonyms = []\n",
        "        for syn in wordnet.synsets(word):\n",
        "            for lemma in syn.lemmas():\n",
        "                synonyms.append(lemma.name())\n",
        "        if synonyms:\n",
        "            new_sentence.append(synonyms[0])\n",
        "        else:\n",
        "            new_sentence.append(word)\n",
        "    return ' '.join(new_sentence)\n",
        "\n",
        "\n",
        "def replace_negations(sentence):\n",
        "    words = nltk.word_tokenize(sentence)\n",
        "    negations = ['not', 'no', 'never', 'none', 'nobody', 'nothing', 'neither', 'nowhere']\n",
        "    new_sentence = []\n",
        "    i = 0\n",
        "    while i < len(words):\n",
        "        if words[i] in negations and i+1 < len(words):\n",
        "            antonyms = []\n",
        "            for syn in wordnet.synsets(words[i+1]):\n",
        "                for lemma in syn.lemmas():\n",
        "                    if lemma.antonyms():\n",
        "                        antonyms.append(lemma.antonyms()[0].name())\n",
        "            if antonyms:\n",
        "                new_sentence.append(antonyms[0])\n",
        "                i += 1\n",
        "            else:\n",
        "                new_sentence.append(words[i])\n",
        "        else:\n",
        "            new_sentence.append(words[i])\n",
        "        i += 1\n",
        "    return ' '.join(new_sentence)\n",
        "\n",
        "\n",
        "sentence = \" boy\"\n",
        "synonyms_sentence = replace_with_synonyms(sentence)\n",
        "print(\"Sentence with synonyms:\", synonyms_sentence)\n",
        "\n",
        "negations_replaced = replace_negations(sentence)\n",
        "print(\"Sentence with negations replaced:\", negations_replaced)\n"
      ]
    }
  ]
}