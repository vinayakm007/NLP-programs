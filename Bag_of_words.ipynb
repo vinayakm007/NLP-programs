{
  "nbformat": 4,
  "nbformat_minor": 0,
  "metadata": {
    "colab": {
      "provenance": []
    },
    "kernelspec": {
      "name": "python3",
      "display_name": "Python 3"
    },
    "language_info": {
      "name": "python"
    }
  },
  "cells": [
    {
      "cell_type": "code",
      "execution_count": null,
      "metadata": {
        "colab": {
          "base_uri": "https://localhost:8080/"
        },
        "id": "K_29fQVpj1KM",
        "outputId": "663d3b2c-ebe9-458f-f04c-82c054289201"
      },
      "outputs": [
        {
          "output_type": "stream",
          "name": "stdout",
          "text": [
            "Vocabulary: Counter({'I': 4, 'am': 2, 'from': 1, 'S6': 1, 'AI': 1, '21': 1, 'year': 1, 'old': 1, 'like': 1, 'to': 1, 'play': 1, 'football.': 1, \"don't\": 1, 'have': 1, 'a': 1, 'car': 1})\n",
            "Document 1 : [1 1 1 1 1 0 0 0 0 0 0 0 0 0 0 0]\n",
            "Document 2 : [1 1 0 0 0 1 1 1 0 0 0 0 0 0 0 0]\n",
            "Document 3 : [1 0 0 0 0 0 0 0 1 1 1 1 0 0 0 0]\n",
            "Document 4 : [1 0 0 0 0 0 0 0 0 0 0 0 1 1 1 1]\n"
          ]
        }
      ],
      "source": [
        "from collections import Counter\n",
        "import numpy as np\n",
        "\n",
        "\n",
        "def tokenize(text):\n",
        "    return text.split()\n",
        "\n",
        "\n",
        "def build_vocabulary(yoyo):\n",
        "    vocabulary = Counter()\n",
        "    for text in yoyo:\n",
        "        tokens = tokenize(text)\n",
        "        vocabulary.update(tokens)\n",
        "    return vocabulary\n",
        "\n",
        "\n",
        "def vectorize(text, vocabulary):\n",
        "    vector = np.zeros(len(vocabulary), dtype=int)\n",
        "    for word in tokenize(text):\n",
        "        if word in vocabulary:\n",
        "            vector[list(vocabulary.keys()).index(word)] += 1\n",
        "    return vector\n",
        "\n",
        "\n",
        "yoyo = [\n",
        "    \"I am from S6 AI\",\n",
        "    \"I am 21 year old\",\n",
        "    \"I like to play football.\",\n",
        "    \"I don't have a car\",\n",
        "]\n",
        "\n",
        "\n",
        "vocabulary = build_vocabulary(yoyo)\n",
        "print(\"Vocabulary:\", vocabulary)\n",
        "\n",
        "\n",
        "vectors = [vectorize(text, vocabulary) for text in yoyo]\n",
        "for i, vector in enumerate(vectors):\n",
        "    print(\"Document\", i+1, \":\", vector)\n"
      ]
    }
  ]
}