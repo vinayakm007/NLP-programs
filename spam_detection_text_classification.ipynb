{
  "nbformat": 4,
  "nbformat_minor": 0,
  "metadata": {
    "colab": {
      "provenance": []
    },
    "kernelspec": {
      "name": "python3",
      "display_name": "Python 3"
    },
    "language_info": {
      "name": "python"
    }
  },
  "cells": [
    {
      "cell_type": "code",
      "execution_count": null,
      "metadata": {
        "id": "EDrdbWftyDha"
      },
      "outputs": [],
      "source": [
        "from sklearn.feature_extraction.text import CountVectorizer\n",
        "from sklearn.ensemble import RandomForestClassifier"
      ]
    },
    {
      "cell_type": "code",
      "source": [
        "\n",
        "texts = ['OFFER CLOSES SOON','hi son','GOOD MORNING SIR','Get this course for 90% discount','how are you ','Limited time offer','i love you']\n",
        "labels = [\"Spam\",\"Legimate\" ,\"Spam\",\"Spam\",\"Legimate\",\"Spam\",\"Legimate\"]\n",
        "\n",
        "\n",
        "\n",
        "\n",
        "vectorizer = CountVectorizer()\n",
        "X = vectorizer.fit_transform(texts)\n",
        "\n",
        "\n",
        "\n",
        "classifier = RandomForestClassifier()\n",
        "classifier.fit(X, labels)\n",
        "\n",
        "\n",
        "new_text = ['GOOD MORNING SIR']\n",
        "new_X = vectorizer.transform(new_text)\n",
        "prediction = classifier.predict(new_X)\n",
        "print(prediction)"
      ],
      "metadata": {
        "colab": {
          "base_uri": "https://localhost:8080/"
        },
        "id": "wYauAOcKynWO",
        "outputId": "844a597e-a1a5-441a-a158-80982e9891a4"
      },
      "execution_count": null,
      "outputs": [
        {
          "output_type": "stream",
          "name": "stdout",
          "text": [
            "['Spam']\n"
          ]
        }
      ]
    }
  ]
}